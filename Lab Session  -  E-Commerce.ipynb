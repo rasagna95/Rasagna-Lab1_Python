{
  "metadata": {
    "kernelspec": {
      "name": "python",
      "display_name": "Pyolite",
      "language": "python"
    },
    "language_info": {
      "codemirror_mode": {
        "name": "python",
        "version": 3
      },
      "file_extension": ".py",
      "mimetype": "text/x-python",
      "name": "python",
      "nbconvert_exporter": "python",
      "pygments_lexer": "ipython3",
      "version": "3.8"
    },
    "colab": {
      "name": "Lab Session  -  E-Commerce.ipynb",
      "provenance": []
    }
  },
  "nbformat_minor": 5,
  "nbformat": 4,
  "cells": [
    {
      "cell_type": "markdown",
      "source": "# Lab Session",
      "metadata": {
        "id": "2c8f47d3"
      },
      "id": "2c8f47d3"
    },
    {
      "cell_type": "markdown",
      "source": "## <font color='blue'> Table Of Contents </font>\n- Problem Statement \n- Load required libraries\n- Connect to DB using mysql-connector-python package\n- Create database named `e_commerce`\n- Create tables and insert data into tables as specified in the question\n- Read all the questions and write sql queries to meet the objective ",
      "metadata": {
        "id": "f637aba6"
      },
      "id": "f637aba6"
    },
    {
      "cell_type": "markdown",
      "source": "## <font color='blue'> Problem Statement </font>\n###  An E-commerce website manages its data in the form of various tables.\nYou need to create a Database called `e_commerce` and various tables in it. The tables needed and attributes which need to be in every table are given before hand. All you have to do is create tables with data in it and answer some of the questions that follows.",
      "metadata": {
        "id": "1073fc90"
      },
      "id": "1073fc90"
    },
    {
      "cell_type": "markdown",
      "source": "### e_commerce Schema:",
      "metadata": {
        "id": "48787355"
      },
      "id": "48787355"
    },
    {
      "cell_type": "markdown",
      "source": "![e_commerce%20_schema.png](attachment:e_commerce%20_schema.png)",
      "metadata": {
        "id": "78938fbc"
      },
      "id": "671d2d40-19e5-4361-b5ba-f2d0e0451b80"
    },
    {
      "cell_type": "markdown",
      "source": "### Load Required Libraries",
      "metadata": {
        "id": "d9abe6c7"
      },
      "id": "d9abe6c7"
    },
    {
      "cell_type": "code",
      "source": "import mysql.connector\nimport pandas as pd",
      "metadata": {},
      "execution_count": null,
      "outputs": [],
      "id": "84a6d961-9d2c-4d1a-afa4-f45c5c476a2d"
    },
    {
      "cell_type": "markdown",
      "source": "### Connect to DB using Mysql-connector-python package",
      "metadata": {
        "id": "d7d7fd5c",
        "jupyter": {
          "source_hidden": true
        },
        "tags": []
      },
      "id": "d7d7fd5c"
    },
    {
      "cell_type": "code",
      "source": "\nconnection = mysql.connector.connect(host =\"localhost\",\n                                     user =\"root\",\n                                     passwd =\"Run@far26976\")\n# creating a cursor object\ncursorObject = connection.cursor()",
      "metadata": {
        "id": "ef7bef72"
      },
      "execution_count": null,
      "outputs": [],
      "id": "ef7bef72"
    },
    {
      "cell_type": "markdown",
      "source": "### You are required to create a database named 'e_commerce'",
      "metadata": {
        "id": "9d55e510"
      },
      "id": "9d55e510"
    },
    {
      "cell_type": "code",
      "source": "connection = mysql.connector.connect(host =\"localhost\",\n                                     user =\"root\",\n                                     passwd =\"Run@far26976\")\n# creating a cursor object\ncursorObject = connection.cursor()\n \n## creating database\ncursorObject.execute(\"CREATE DATABASE e_commerce\")\n\n## closing the connection after creating a database('e_commerce')\nconnection.close()",
      "metadata": {
        "id": "42a154f2"
      },
      "execution_count": null,
      "outputs": [],
      "id": "42a154f2"
    },
    {
      "cell_type": "markdown",
      "source": "### Q1. Create tables for supplier, customer, category, product, productDetails, order, rating to store the data for the E-commerce with the schema definition given below.\n\n\n- **`supplier`**(SUPP_ID int primary key, SUPP_NAME varchar(50), SUPP_CITY varchar(50), SUPP_PHONE varchar(10))\n\n\n- **`customer`** (CUS_ID INT NOT NULL, CUS_NAME VARCHAR(20) NULL DEFAULT NULL, CUS_PHONE VARCHAR(10), CUS_CITY varchar(30) ,CUS_GENDER CHAR,PRIMARY KEY (CUS_ID))\n\n\n- **`category`** (CAT_ID INT NOT NULL, CAT_NAME VARCHAR(20) NULL DEFAULT NULL,PRIMARY KEY (CAT_ID))\n\n\n- **`product`** (PRO_ID INT NOT NULL, PRO_NAME VARCHAR(20) NULL DEFAULT NULL, PRO_DESC VARCHAR(60) NULL DEFAULT NULL, CAT_ID INT NOT NULL,PRIMARY KEY (PRO_ID),FOREIGN KEY (CAT_ID) REFERENCES CATEGORY (CAT_ID))\n\n\n- **`product_details`** (PROD_ID INT NOT NULL, PRO_ID INT NOT NULL, SUPP_ID INT NOT NULL, PROD_PRICE INT NOT NULL,\n  PRIMARY KEY (PROD_ID),FOREIGN KEY (PRO_ID) REFERENCES PRODUCT (PRO_ID), FOREIGN KEY (SUPP_ID) REFERENCES SUPPLIER(SUPP_ID))\n  \n  \n- **`order`** (ORD_ID INT NOT NULL, ORD_AMOUNT INT NOT NULL, ORD_DATE DATE, CUS_ID INT NOT NULL, PROD_ID INT NOT NULL,PRIMARY KEY (ORD_ID),FOREIGN KEY (CUS_ID) REFERENCES CUSTOMER(CUS_ID),FOREIGN KEY (PROD_ID) REFERENCES PRODUCT_DETAILS(PROD_ID))\n\n\n- **`rating`** (RAT_ID INT NOT NULL, CUS_ID INT NOT NULL, SUPP_ID INT NOT NULL, RAT_RATSTARS INT NOT NULL,PRIMARY KEY (RAT_ID),FOREIGN KEY (SUPP_ID) REFERENCES SUPPLIER (SUPP_ID),FOREIGN KEY (CUS_ID) REFERENCES CUSTOMER(CUS_ID))",
      "metadata": {
        "id": "480dc986"
      },
      "id": "480dc986"
    },
    {
      "cell_type": "code",
      "source": "## Again connect to the Mysql server and while connecting Choose 'e_commerce' database\n\nconnection = mysql.connector.connect(host =\"localhost\",\n                                     user =\"root\",\n                                     passwd =\"Run@far26976\",\n                                     database = 'e_commerce')\n \n## creating a cursor object\ncursorObject = connection.cursor()",
      "metadata": {},
      "execution_count": null,
      "outputs": [],
      "id": "a77fd20c-e294-49eb-91d4-1b0049f27281"
    },
    {
      "cell_type": "code",
      "source": "## Solution for Q1: Creating tables \n\ntable_creation_query = \"\"\"create table supplier (SUPP_ID int primary key, SUPP_NAME varchar(50), SUPP_CITY varchar(50), SUPP_PHONE varchar(10));\n\n                          create table customer (CUS_ID INT NOT NULL, CUS_NAME VARCHAR(20) NULL DEFAULT NULL, CUS_PHONE VARCHAR(10), CUS_CITY varchar(30) ,CUS_GENDER CHAR,PRIMARY KEY (CUS_ID));\n\n                          create table category (CAT_ID INT NOT NULL, CAT_NAME VARCHAR(20) NULL DEFAULT NULL,PRIMARY KEY (CAT_ID));\n\n                          create table product (PRO_ID INT NOT NULL, PRO_NAME VARCHAR(20) NULL DEFAULT NULL, PRO_DESC VARCHAR(60) NULL DEFAULT NULL, CAT_ID INT NOT NULL,PRIMARY KEY (PRO_ID),FOREIGN KEY (CAT_ID) REFERENCES CATEGORY (CAT_ID));\n\n                          create table product_details (PROD_ID INT NOT NULL, PRO_ID INT NOT NULL, SUPP_ID INT NOT NULL, PROD_PRICE INT NOT NULL,PRIMARY KEY (PROD_ID),FOREIGN KEY (PRO_ID) REFERENCES PRODUCT (PRO_ID), FOREIGN KEY (SUPP_ID) REFERENCES SUPPLIER(SUPP_ID));\n\n                          create table orders (ORD_ID INT NOT NULL, ORD_AMOUNT INT NOT NULL, ORD_DATE DATE, CUS_ID INT NOT NULL, PROD_ID INT NOT NULL,PRIMARY KEY (ORD_ID),FOREIGN KEY (CUS_ID) REFERENCES CUSTOMER(CUS_ID),FOREIGN KEY (PROD_ID) REFERENCES PRODUCT_DETAILS(PROD_ID));\n\n                          create table rating (RAT_ID INT NOT NULL, CUS_ID INT NOT NULL, SUPP_ID INT NOT NULL, RAT_RATSTARS INT NOT NULL,PRIMARY KEY (RAT_ID),FOREIGN KEY (SUPP_ID) REFERENCES SUPPLIER (SUPP_ID),FOREIGN KEY (CUS_ID) REFERENCES CUSTOMER(CUS_ID));\"\"\"\n\n# Executing the query\ncursorObject.execute(table_creation_query)",
      "metadata": {
        "id": "967b718f"
      },
      "execution_count": null,
      "outputs": [],
      "id": "967b718f"
    },
    {
      "cell_type": "markdown",
      "source": "### Q2. Insert the following data in the table created above\n#### `Note:` If you are getting any error while inserting the data into tables, Kindly close the connection and reconnect\n\n#### Table:  supplier\n| SUPP_ID | SUPP_NAME | SUPP_CITY | SUPP_PHONE |\n| --- | --- | --- | --- | \n| 1 | Rajesh Retails | Delhi | 1234567890 |\n| 2 | Appario Ltd. | Mumbai | 258963147032 | \n| 3 | Knome products | Bangalore | 9785462315 |\n| 4 | Bansal Retails | Kochi | 8975463285 |\n| 5 | Mittal Ltd. | Lucknow | 7898456532 |",
      "metadata": {
        "id": "1f653731",
        "tags": []
      },
      "id": "1f653731"
    },
    {
      "cell_type": "code",
      "source": "## After creating tables close the connection and reconnect to the server for inserting the data \n\n## closing the connection \nconnection.close()\n## Lets make a connection to Mysql server and choose database 'e_commerce'\nconnection = mysql.connector.connect(host =\"localhost\",\n                                     user =\"root\",\n                                     passwd =\"Run@far26976\",\n                                     database='e_commerce')\n## creating a cursor object\ncursorObject = connection.cursor()\n",
      "metadata": {
        "id": "f6dddd07",
        "tags": []
      },
      "execution_count": null,
      "outputs": [],
      "id": "f6dddd07"
    },
    {
      "cell_type": "code",
      "source": "## Solution for Q2: Inserting data to the tables\n\n## Inserting data into \"supplier\"\n\ninsert_supplier = \"\"\"INSERT INTO supplier (SUPP_ID , SUPP_NAME , SUPP_CITY , SUPP_PHONE) \n                       VALUES (%s, %s, %s, %s)\"\"\"\n\nval = [(1,'Rajesh Retails', 'Delhi', 1234567890),(2,'Appario Ltd.', 'Mumbai', 258963147032),\n       (3,'Knome products', 'Bangalore', 9785462315),(4,'Bansal Retails', 'Kochi', 8975463285),\n       (5,'Mittal Ltd.', 'Kochi', 7898456532)]\n   \ncursorObject.executemany(insert_supplier, val)\nconnection.commit()\n",
      "metadata": {},
      "execution_count": null,
      "outputs": [],
      "id": "98a95aa3-b355-4c0b-b5de-0c645558aaee"
    },
    {
      "cell_type": "markdown",
      "source": "#### Table:  customer\n| CUS_ID | CUS_NAME | SUPP_PHONE | CUS_CITY | CUS_GENDER\n| --- | --- | --- | --- | --- |\n| 1 | AAKASH | 9999999999 | DELHI | M |\n| 2 | AMAN | 9785463215 | NOIDA | M |\n| 3 | NEHA | 9999999998 | MUMBAI | F |\n| 4 | MEGHA | 9994562399 | KOLKATA | F |\n| 5 | PULKIT | 7895999999 | LUCKNOW | M |",
      "metadata": {
        "id": "e8a070a6",
        "tags": []
      },
      "id": "e8a070a6"
    },
    {
      "cell_type": "code",
      "source": "# insert into \"customer\" table\n\ninsert_customer = \"\"\"INSERT INTO customer (CUS_ID , CUS_NAME , SUPP_NAME , CUS_CITY, CUS_GENDER) \n                       VALUES (%s, %s, %s, %s, %s)\"\"\"\n\nval = [(1,'AAKASH', 9999999999,'DELHI', 'M'),(2,'AMAN', 9785463215,'NOIDA', 'M'),\n       (3,'NEHA', 9999999998,'MUMBAI', 'F'),(4,'MEGHA', 9994562399,'KOLKATA', 'F'),\n       (5,'PULKIT', 7895999999,'LUCKNOW', 'M')]\n   \ncursorObject.executemany(insert_customer, val)\nconnection.commit()",
      "metadata": {
        "id": "15a4ee87"
      },
      "execution_count": null,
      "outputs": [],
      "id": "15a4ee87"
    },
    {
      "cell_type": "markdown",
      "source": "#### Table:  category\n| CAT_ID | CAT_NAME | \n| --- | --- |  \n| 1 | BOOKS |\n| 2 | GAMES |  \n| 3 | GROCERIES | \n| 4 | ELECTRONICS | \n| 5 | CLOTHES | ",
      "metadata": {
        "id": "b68bfbc2"
      },
      "id": "b68bfbc2"
    },
    {
      "cell_type": "code",
      "source": "# insert into \"category\" table\n\ninsert_category = \"\"\"INSERT INTO category (CAT_ID , CAT_NAME) \n                       VALUES (%s, %s)\"\"\"\n\nval = [(1,'BOOKS'),(2,'GAMES'),\n       (3,'GROCERIES'),(4,'ELECTRONICS'),\n       (5,'CLOTHES')]\n   \ncursorObject.executemany(insert_category, val)\nconnection.commit()",
      "metadata": {
        "id": "05a00abc"
      },
      "execution_count": null,
      "outputs": [],
      "id": "05a00abc"
    },
    {
      "cell_type": "markdown",
      "source": "#### Table:  product\n| PRO_ID | PRO_NAME | PRO_DESC | CAT_ID |\n| --- | --- | --- | --- | \n| 1 | GTA V | DFJDJFDJFDJFDJFJF | 2 |\n| 2 | TSHIRT | DFDFJDFJDKFD | 5 | \n| 3 | ROG LAPTOP | DFNTTNTNTERND | 4 |\n| 4 | OATS | REURENTBTOTH | 3 |\n| 5 | HARRY POTTER | NBEMCTHTJTH | 1 |\n",
      "metadata": {
        "id": "eb3bc592"
      },
      "id": "eb3bc592"
    },
    {
      "cell_type": "code",
      "source": "# insert into \"product\" table\n\ninsert_product = \"\"\"INSERT INTO product (PRO_ID , PROD_NAME, PRO_DESC, CAT_ID) \n                       VALUES (%s, %s, %s, %s)\"\"\"\n\nval = [(1,'GTA V','DFJDJFDJFDJFDJFJF',2),(2,'TSHIRT','DFDFJDFJDKFD',5),\n       (3,'ROG LAPTOP','DFNTTNTNTERND',4),(4,'OATS','REURENTBTOTH',3),\n       (5,'HARRY POTTER','NBEMCTHTJTH',1)]\n   \ncursorObject.executemany(insert_product, val)\nconnection.commit()\n",
      "metadata": {
        "id": "cdfbdfad"
      },
      "execution_count": null,
      "outputs": [],
      "id": "cdfbdfad"
    },
    {
      "cell_type": "markdown",
      "source": "#### Table:  product_details\n| PROD_ID | PRO_ID | SUPP_ID | PROD_PRICE |\n| --- | --- | --- | --- | \n| 1 | 1 | 2 | 1500 |\n| 2 | 3 | 5 | 30000 | \n| 3 | 5 | 1 | 3000 |\n| 4 | 2 | 3 | 2500 |\n| 5 | 4 | 1 | 1000 |",
      "metadata": {
        "id": "cfa8a47d"
      },
      "id": "cfa8a47d"
    },
    {
      "cell_type": "code",
      "source": "# insert into \"product_details\" table\n\ninsert_product_details = \"\"\"INSERT INTO product_details (PROD_ID , PROD_ID, SUPP_ID, PROD_PRICE) \n                       VALUES (%s, %s, %s, %s)\"\"\"\n\nval = [(1,1,2,1500),(2,3,5,30000),\n       (3,5,1,3000),(4,2,3,2500),\n       (5,4,1,1000)]\n   \ncursorObject.executemany(insert_product_details, val)\nconnection.commit()\n",
      "metadata": {
        "id": "c18ea964"
      },
      "execution_count": null,
      "outputs": [],
      "id": "c18ea964"
    },
    {
      "cell_type": "markdown",
      "source": "#### Table:  orders\n| ORD_ID | ORD_AMOUNT | ORD_DATE | CUS_ID | PROD_ID\n| --- | --- | --- | --- | --- |\n| 20 | 1500 | 2021-10-12 | 3 | 5 |\n| 25 | 30500 | 2021-09-16 | 5 | 2 |\n| 26 | 2000 | 2021-10-05 | 1 | 1 |\n| 30 | 3500 | 2021-08-16 | 4 | 3 |\n| 50 | 2000 | 2021-10-06 | 2 | 1 |",
      "metadata": {
        "id": "1df49086"
      },
      "id": "1df49086"
    },
    {
      "cell_type": "code",
      "source": "# insert into \"orders\" table\n\ninsert_orders = \"\"\"INSERT INTO orders (ORD_ID , ORD_AMOUNT, ORD_DATE, CUS_ID, PROD_ID) \n                       VALUES (%s, %s, %s, %s, %s)\"\"\"\n\nval = [(20,1500,'2021-10-12',3,5),(25,30500,'2021-09-16',5,2),\n       (26,2000,'2021-10-05',1,1),(30,3500,'2021-08-16',4,3),\n       (50,2000,'2021-10-06',2,1)]\n   \ncursorObject.executemany(insert_orders, val)\nconnection.commit()",
      "metadata": {
        "id": "0d97dc92"
      },
      "execution_count": null,
      "outputs": [],
      "id": "0d97dc92"
    },
    {
      "cell_type": "markdown",
      "source": "#### Table: rating\n| RAT_ID | CUS_ID | SUPP_ID | RAT_RATSTARS |\n| --- | --- | --- | --- | \n| 1 | 2 | 2 | 4 |\n| 2 | 3 | 4 | 3 | \n| 3 | 5 | 1 | 5 |\n| 4 | 1 | 3 | 2 |\n| 5 | 4 | 5 | 4 |",
      "metadata": {
        "id": "75b8ce5f"
      },
      "id": "75b8ce5f"
    },
    {
      "cell_type": "code",
      "source": "# insert into \"rating\" table\n\ninsert_rating = \"\"\"INSERT INTO rating (RAT_ID , CUS_ID, SUPP_ID, RAT_RATSTARS) \n                       VALUES (%s, %s, %s, %s)\"\"\"\n\nval = [(1,2,2,4),(2,3,4,3),\n       (3,5,1,5),(4,1,3,2),\n       (5,4,5,4)]\n   \ncursorObject.executemany(insert_rating, val)\nconnection.commit()",
      "metadata": {
        "id": "6d5f1e18"
      },
      "execution_count": null,
      "outputs": [],
      "id": "6d5f1e18"
    },
    {
      "cell_type": "markdown",
      "source": "### Q3) Display the number of the customer group by their genders who have placed any order of amount greater than or equal to Rs.3000.",
      "metadata": {
        "id": "b59361c3"
      },
      "id": "b59361c3"
    },
    {
      "cell_type": "code",
      "source": "db_set=\"USE e_commerce\"\ncursorObject.execute(db_set)\n\nquestion_3 = \"\"\"select count(*) as num_cust,C.cus_gender from customer as C inner join orders O\n                    on C.cus_id = O.cus_id where o.ord_amount>3000 group by C.cus_gender\"\"\"\n\ncursorObject.execute(question_3)\n \noutput = cursorObject.fetchall()\n\noutput_df = pd.DataFrame(output, columns=['Number of customers','Gender'])\noutput_df",
      "metadata": {
        "id": "fcafaf3c"
      },
      "execution_count": null,
      "outputs": [],
      "id": "fcafaf3c"
    },
    {
      "cell_type": "markdown",
      "source": "### Q4) Display all the order along with product name ordered by a customer having Customer_Id=2;",
      "metadata": {
        "id": "e49e04f5"
      },
      "id": "e49e04f5"
    },
    {
      "cell_type": "code",
      "source": "question_4 = \"\"\"select o.cus_id, o.ord_id,o.ord_amount,o.ord_date,pdt.pro_name from orders as O inner join (select pro_name ,pro_id from product ) as pdt on o.prod_id=pdt.pro_id where o.cus_id=2\"\"\"\n\ncursorObject.execute(question_4)\n \noutput = cursorObject.fetchall()\n\noutput_df = pd.DataFrame(output, columns=['Customer Id','Order id','Order Amount','Order date','Product Name'])\noutput_df",
      "metadata": {
        "id": "9dcb7883",
        "trusted": true
      },
      "execution_count": null,
      "outputs": [],
      "id": "9dcb7883"
    },
    {
      "cell_type": "markdown",
      "source": "### Q5) Display the Supplier details who can supply more than one product.",
      "metadata": {
        "id": "3a33398e"
      },
      "id": "3a33398e"
    },
    {
      "cell_type": "code",
      "source": "question_5 = \"\"\"select supp_name,supp_city,supp_phone from supplier supp where supp_id in (select supp_id from product_details pdt group by supp_id having count(*)>1)\"\"\"\n\ncursorObject.execute(question_5)\n \noutput = cursorObject.fetchall()\n\noutput_df = pd.DataFrame(output, columns=['Supplier Name','Supplier City','Supplier Phone'])\noutput_df",
      "metadata": {
        "id": "e933b979"
      },
      "execution_count": null,
      "outputs": [],
      "id": "e933b979"
    },
    {
      "cell_type": "markdown",
      "source": "### Q6) Find the category of the product whose order amount is minimum.",
      "metadata": {
        "id": "5fd319ef"
      },
      "id": "5fd319ef"
    },
    {
      "cell_type": "code",
      "source": "question_6=\"\"\"select C.cat_name from product p inner join category C on C.cat_id=p.cat_id where p.pro_id in (select prod_id from orders where ord_amount=(select min(ord_amount) from orders))\"\"\"\ncursorObject.execute(question_6)\n \noutput = cursorObject.fetchall()\n\noutput_df = pd.DataFrame(output, columns=['Category Name'])\noutput_df",
      "metadata": {
        "id": "06f5cb51"
      },
      "execution_count": null,
      "outputs": [],
      "id": "06f5cb51"
    },
    {
      "cell_type": "markdown",
      "source": "### Q7) Display the Id and Name of the Product ordered after “2021-10-05”.",
      "metadata": {
        "id": "107102d4"
      },
      "id": "107102d4"
    },
    {
      "cell_type": "code",
      "source": "question_7=\"\"\"select p.pro_id,p.pro_name from product p where p.pro_id in (select prod_id from  orders where ord_date>'2021-10-05')\"\"\"\ncursorObject.execute(question_7)\n \noutput = cursorObject.fetchall()\n\noutput_df = pd.DataFrame(output, columns=['Product Id','Product Name'])\noutput_df",
      "metadata": {
        "id": "5d3fc7e8"
      },
      "execution_count": null,
      "outputs": [],
      "id": "5d3fc7e8"
    },
    {
      "cell_type": "markdown",
      "source": "### Q8) Print the top 3 supplier name and id and rating on the basis of their rating along with the customer name who has given the rating.",
      "metadata": {
        "id": "bdce7167"
      },
      "id": "bdce7167"
    },
    {
      "cell_type": "code",
      "source": "question_8=\"\"\"select s.supp_name,r.supp_id,r.rat_ratstars,c.cus_name from rating r inner join customer c on r.cus_id =c.cus_id inner join supplier s on r.SUPP_ID= s.SUPP_ID  order by r.RAT_RATSTARS desc limit 3\"\"\"\ncursorObject.execute(question_8)\n \noutput = cursorObject.fetchall()\n\noutput_df = pd.DataFrame(output, columns=['Supplier Name','Supplier Id','Rating','Customer who rated'])\noutput_df",
      "metadata": {
        "id": "fa0cbe44"
      },
      "execution_count": null,
      "outputs": [],
      "id": "fa0cbe44"
    },
    {
      "cell_type": "markdown",
      "source": "### Q9) Display customer name and gender whose names start or end with character 'A'.",
      "metadata": {
        "id": "346ec2a1"
      },
      "id": "346ec2a1"
    },
    {
      "cell_type": "code",
      "source": "question_9=\"\"\"select c.cus_name,c.cus_gender from customer c where c.cus_name like 'A%' or c.cus_name like '%A'\"\"\"\ncursorObject.execute(question_9)\n \noutput = cursorObject.fetchall()\n\noutput_df = pd.DataFrame(output, columns=['Customer Name','Customer Gender'])\noutput_df",
      "metadata": {
        "id": "e571b5fd"
      },
      "execution_count": null,
      "outputs": [],
      "id": "e571b5fd"
    },
    {
      "cell_type": "markdown",
      "source": "### Q10) Display the total order amount of the male customers.",
      "metadata": {
        "id": "d0b01f77"
      },
      "id": "d0b01f77"
    },
    {
      "cell_type": "code",
      "source": "question_10=\"\"\"select sum(o.ord_amount) from orders o inner join customer c on o.cus_id=c.cus_id where c.cus_gender='M'\"\"\"\ncursorObject.execute(question_10)\n \noutput = cursorObject.fetchall()\n\noutput_df = pd.DataFrame(output, columns=['Total order amount of male customers'])\noutput_df",
      "metadata": {
        "id": "c3fa76e3"
      },
      "execution_count": null,
      "outputs": [],
      "id": "c3fa76e3"
    },
    {
      "cell_type": "markdown",
      "source": "### Q11) Display all the Customers left outer join with  the orders",
      "metadata": {
        "id": "ff8a9971"
      },
      "id": "ff8a9971"
    },
    {
      "cell_type": "code",
      "source": "question_11=\"\"\"select c.*, o.ord_id,o.ord_date,o.ord_amount,o.prod_id from customer c left outer join orders o on c.cus_id=o.cus_id\"\"\"\ncursorObject.execute(question_11)\n \noutput = cursorObject.fetchall()\n\noutput_df = pd.DataFrame(output, columns=['Customer ID','Customer Name','Customer Phone','Customer City','Customer Gender','Order Id','Order Date','Order Amount','Product Id'])\noutput_df",
      "metadata": {
        "id": "a340c6d6"
      },
      "execution_count": null,
      "outputs": [],
      "id": "a340c6d6"
    },
    {
      "cell_type": "markdown",
      "source": "**NOTE:** Always close an open connection once you are done with the database operations",
      "metadata": {
        "id": "0a72afe3"
      },
      "id": "0a72afe3"
    },
    {
      "cell_type": "code",
      "source": "## closing the connection\nconnection.close()",
      "metadata": {},
      "execution_count": null,
      "outputs": [],
      "id": "87e003cf-7301-4012-9e70-3592d21fec57"
    },
    {
      "cell_type": "markdown",
      "source": "## Happy Learning:)",
      "metadata": {
        "id": "8c88f479"
      },
      "id": "8c88f479"
    }
  ]
}